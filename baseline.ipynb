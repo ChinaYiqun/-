{
  "nbformat": 4,
  "nbformat_minor": 0,
  "metadata": {
    "colab": {
      "name": "baseline",
      "provenance": [],
      "machine_shape": "hm",
      "authorship_tag": "ABX9TyMPeZZec1uPqG1YHJ0En2i8",
      "include_colab_link": true
    },
    "kernelspec": {
      "name": "python3",
      "display_name": "Python 3"
    },
    "accelerator": "TPU"
  },
  "cells": [
    {
      "cell_type": "markdown",
      "metadata": {
        "id": "view-in-github",
        "colab_type": "text"
      },
      "source": [
        "<a href=\"https://colab.research.google.com/github/ChinaYiqun/AI-yanxishe/blob/master/baseline.ipynb\" target=\"_parent\"><img src=\"https://colab.research.google.com/assets/colab-badge.svg\" alt=\"Open In Colab\"/></a>"
      ]
    },
    {
      "cell_type": "markdown",
      "metadata": {
        "id": "KLuiwtDcjAfE",
        "colab_type": "text"
      },
      "source": [
        "数据下载"
      ]
    },
    {
      "cell_type": "code",
      "metadata": {
        "id": "glNpjf9TKvXn",
        "colab_type": "code",
        "colab": {}
      },
      "source": [
        "!wget http://qavs3w9z3.bkt.clouddn.com/yanxishe_74.zip\n",
        "!unzip yanxishe_74.zip\n",
        "!clear"
      ],
      "execution_count": null,
      "outputs": []
    },
    {
      "cell_type": "code",
      "metadata": {
        "id": "KN8ym886MmVC",
        "colab_type": "code",
        "colab": {
          "base_uri": "https://localhost:8080/",
          "height": 499
        },
        "outputId": "9b49f40c-93d7-4bfc-a5bb-b28268dda3d7"
      },
      "source": [
        "import os\n",
        "from sklearn.utils import shuffle\n",
        "import pandas as pd\n",
        "import shutil\n",
        "!pip install efficientnet\n",
        "%tensorflow_version 1.x\n",
        "import tensorflow.compat.v1 as tf\n",
        "tf.disable_v2_behavior()\n",
        "import efficientnet.keras as efn \n",
        "from keras.layers import Dense, Dropout, Flatten, AveragePooling2D\n",
        "from keras.models import Sequential, Model, load_model\n",
        "from keras.callbacks import ModelCheckpoint, TensorBoard, LearningRateScheduler\n",
        "from time import time\n",
        "import os\n",
        "from keras.preprocessing.image import ImageDataGenerator"
      ],
      "execution_count": 2,
      "outputs": [
        {
          "output_type": "stream",
          "text": [
            "Collecting efficientnet\n",
            "  Downloading https://files.pythonhosted.org/packages/28/91/67848a143b54c331605bfba5fd31cf4e9db13d2e429d103fe807acc3bcf4/efficientnet-1.1.0-py3-none-any.whl\n",
            "Requirement already satisfied: keras-applications<=1.0.8,>=1.0.7 in /usr/local/lib/python3.6/dist-packages (from efficientnet) (1.0.8)\n",
            "Requirement already satisfied: scikit-image in /usr/local/lib/python3.6/dist-packages (from efficientnet) (0.16.2)\n",
            "Requirement already satisfied: h5py in /usr/local/lib/python3.6/dist-packages (from keras-applications<=1.0.8,>=1.0.7->efficientnet) (2.10.0)\n",
            "Requirement already satisfied: numpy>=1.9.1 in /usr/local/lib/python3.6/dist-packages (from keras-applications<=1.0.8,>=1.0.7->efficientnet) (1.18.5)\n",
            "Requirement already satisfied: PyWavelets>=0.4.0 in /usr/local/lib/python3.6/dist-packages (from scikit-image->efficientnet) (1.1.1)\n",
            "Requirement already satisfied: imageio>=2.3.0 in /usr/local/lib/python3.6/dist-packages (from scikit-image->efficientnet) (2.4.1)\n",
            "Requirement already satisfied: scipy>=0.19.0 in /usr/local/lib/python3.6/dist-packages (from scikit-image->efficientnet) (1.4.1)\n",
            "Requirement already satisfied: pillow>=4.3.0 in /usr/local/lib/python3.6/dist-packages (from scikit-image->efficientnet) (7.0.0)\n",
            "Requirement already satisfied: networkx>=2.0 in /usr/local/lib/python3.6/dist-packages (from scikit-image->efficientnet) (2.4)\n",
            "Requirement already satisfied: matplotlib!=3.0.0,>=2.0.0 in /usr/local/lib/python3.6/dist-packages (from scikit-image->efficientnet) (3.2.2)\n",
            "Requirement already satisfied: six in /usr/local/lib/python3.6/dist-packages (from h5py->keras-applications<=1.0.8,>=1.0.7->efficientnet) (1.12.0)\n",
            "Requirement already satisfied: decorator>=4.3.0 in /usr/local/lib/python3.6/dist-packages (from networkx>=2.0->scikit-image->efficientnet) (4.4.2)\n",
            "Requirement already satisfied: python-dateutil>=2.1 in /usr/local/lib/python3.6/dist-packages (from matplotlib!=3.0.0,>=2.0.0->scikit-image->efficientnet) (2.8.1)\n",
            "Requirement already satisfied: kiwisolver>=1.0.1 in /usr/local/lib/python3.6/dist-packages (from matplotlib!=3.0.0,>=2.0.0->scikit-image->efficientnet) (1.2.0)\n",
            "Requirement already satisfied: pyparsing!=2.0.4,!=2.1.2,!=2.1.6,>=2.0.1 in /usr/local/lib/python3.6/dist-packages (from matplotlib!=3.0.0,>=2.0.0->scikit-image->efficientnet) (2.4.7)\n",
            "Requirement already satisfied: cycler>=0.10 in /usr/local/lib/python3.6/dist-packages (from matplotlib!=3.0.0,>=2.0.0->scikit-image->efficientnet) (0.10.0)\n",
            "Installing collected packages: efficientnet\n",
            "Successfully installed efficientnet-1.1.0\n",
            "TensorFlow 1.x selected.\n",
            "WARNING:tensorflow:From /tensorflow-1.15.2/python3.6/tensorflow_core/python/compat/v2_compat.py:68: disable_resource_variables (from tensorflow.python.ops.variable_scope) is deprecated and will be removed in a future version.\n",
            "Instructions for updating:\n",
            "non-resource variables are not supported in the long term\n"
          ],
          "name": "stdout"
        },
        {
          "output_type": "stream",
          "text": [
            "Using TensorFlow backend.\n"
          ],
          "name": "stderr"
        }
      ]
    },
    {
      "cell_type": "markdown",
      "metadata": {
        "id": "SV5ClCB4jQpw",
        "colab_type": "text"
      },
      "source": [
        "数据概览"
      ]
    },
    {
      "cell_type": "code",
      "metadata": {
        "id": "kFf2xN1PM5Mt",
        "colab_type": "code",
        "colab": {
          "base_uri": "https://localhost:8080/",
          "height": 206
        },
        "outputId": "6a15b19e-4ccf-4d6f-f0b6-d362e5841724"
      },
      "source": [
        "df = pd.read_csv('train.csv')\n",
        "df.head(5)"
      ],
      "execution_count": 3,
      "outputs": [
        {
          "output_type": "execute_result",
          "data": {
            "text/html": [
              "<div>\n",
              "<style scoped>\n",
              "    .dataframe tbody tr th:only-of-type {\n",
              "        vertical-align: middle;\n",
              "    }\n",
              "\n",
              "    .dataframe tbody tr th {\n",
              "        vertical-align: top;\n",
              "    }\n",
              "\n",
              "    .dataframe thead th {\n",
              "        text-align: right;\n",
              "    }\n",
              "</style>\n",
              "<table border=\"1\" class=\"dataframe\">\n",
              "  <thead>\n",
              "    <tr style=\"text-align: right;\">\n",
              "      <th></th>\n",
              "      <th>id</th>\n",
              "      <th>gender</th>\n",
              "      <th>masterCategory</th>\n",
              "      <th>Sports</th>\n",
              "    </tr>\n",
              "  </thead>\n",
              "  <tbody>\n",
              "    <tr>\n",
              "      <th>0</th>\n",
              "      <td>0</td>\n",
              "      <td>Men</td>\n",
              "      <td>Apparel</td>\n",
              "      <td>Casual</td>\n",
              "    </tr>\n",
              "    <tr>\n",
              "      <th>1</th>\n",
              "      <td>1</td>\n",
              "      <td>Men</td>\n",
              "      <td>Apparel</td>\n",
              "      <td>Casual</td>\n",
              "    </tr>\n",
              "    <tr>\n",
              "      <th>2</th>\n",
              "      <td>2</td>\n",
              "      <td>Men</td>\n",
              "      <td>Accessories</td>\n",
              "      <td>Casual</td>\n",
              "    </tr>\n",
              "    <tr>\n",
              "      <th>3</th>\n",
              "      <td>3</td>\n",
              "      <td>Men</td>\n",
              "      <td>Footwear</td>\n",
              "      <td>Sports</td>\n",
              "    </tr>\n",
              "    <tr>\n",
              "      <th>4</th>\n",
              "      <td>4</td>\n",
              "      <td>Women</td>\n",
              "      <td>Accessories</td>\n",
              "      <td>Casual</td>\n",
              "    </tr>\n",
              "  </tbody>\n",
              "</table>\n",
              "</div>"
            ],
            "text/plain": [
              "   id gender masterCategory  Sports\n",
              "0   0    Men        Apparel  Casual\n",
              "1   1    Men        Apparel  Casual\n",
              "2   2    Men    Accessories  Casual\n",
              "3   3    Men       Footwear  Sports\n",
              "4   4  Women    Accessories  Casual"
            ]
          },
          "metadata": {
            "tags": []
          },
          "execution_count": 3
        }
      ]
    },
    {
      "cell_type": "code",
      "metadata": {
        "id": "FFlCLojTjUln",
        "colab_type": "code",
        "colab": {
          "base_uri": "https://localhost:8080/",
          "height": 266
        },
        "outputId": "3dbd1dbe-abad-4ba9-9878-f5c56c9c0521"
      },
      "source": [
        "df['gender'].value_counts().plot.pie()"
      ],
      "execution_count": 4,
      "outputs": [
        {
          "output_type": "execute_result",
          "data": {
            "text/plain": [
              "<matplotlib.axes._subplots.AxesSubplot at 0x7fab8bf01278>"
            ]
          },
          "metadata": {
            "tags": []
          },
          "execution_count": 4
        },
        {
          "output_type": "display_data",
          "data": {
            "image/png": "[encoded data removed]",
            "text/plain": [
              "<Figure size 432x288 with 1 Axes>"
            ]
          },
          "metadata": {
            "tags": []
          }
        }
      ]
    },
    {
      "cell_type": "code",
      "metadata": {
        "id": "GVlZe9OHjmap",
        "colab_type": "code",
        "colab": {
          "base_uri": "https://localhost:8080/",
          "height": 266
        },
        "outputId": "42929a3f-c471-455d-a834-680d5674c5f0"
      },
      "source": [
        "df['masterCategory'].value_counts().plot.pie()"
      ],
      "execution_count": 5,
      "outputs": [
        {
          "output_type": "execute_result",
          "data": {
            "text/plain": [
              "<matplotlib.axes._subplots.AxesSubplot at 0x7fab8be9c400>"
            ]
          },
          "metadata": {
            "tags": []
          },
          "execution_count": 5
        },
        {
          "output_type": "display_data",
          "data": {
            "image/png": "[encoded data removed]",
            "text/plain": [
              "<Figure size 432x288 with 1 Axes>"
            ]
          },
          "metadata": {
            "tags": []
          }
        }
      ]
    },
    {
      "cell_type": "code",
      "metadata": {
        "id": "c_qPAMqkjseZ",
        "colab_type": "code",
        "colab": {
          "base_uri": "https://localhost:8080/",
          "height": 266
        },
        "outputId": "9d2e8741-efad-4662-a1c5-1931661fd552"
      },
      "source": [
        "df['Sports'].value_counts().plot.pie()"
      ],
      "execution_count": 6,
      "outputs": [
        {
          "output_type": "execute_result",
          "data": {
            "text/plain": [
              "<matplotlib.axes._subplots.AxesSubplot at 0x7fab8b9b0278>"
            ]
          },
          "metadata": {
            "tags": []
          },
          "execution_count": 6
        },
        {
          "output_type": "display_data",
          "data": {
            "image/png": "[encoded data removed]",
            "text/plain": [
              "<Figure size 432x288 with 1 Axes>"
            ]
          },
          "metadata": {
            "tags": []
          }
        }
      ]
    },
    {
      "cell_type": "markdown",
      "metadata": {
        "id": "ZVUTtkzYmyB0",
        "colab_type": "text"
      },
      "source": [
        "预处理"
      ]
    },
    {
      "cell_type": "code",
      "metadata": {
        "id": "uP67y4FGQHI9",
        "colab_type": "code",
        "colab": {
          "base_uri": "https://localhost:8080/",
          "height": 424
        },
        "outputId": "41c25063-b354-445f-d8bf-397738966db6"
      },
      "source": [
        "dataset = df[~df.isnull().any(axis=1)]\n",
        "dataset = shuffle(dataset)\n",
        "train_tags = dataset.iloc[500:,:]\n",
        "val_tags = dataset.iloc[:500,:]\n",
        "val_tags"
      ],
      "execution_count": 7,
      "outputs": [
        {
          "output_type": "execute_result",
          "data": {
            "text/html": [
              "<div>\n",
              "<style scoped>\n",
              "    .dataframe tbody tr th:only-of-type {\n",
              "        vertical-align: middle;\n",
              "    }\n",
              "\n",
              "    .dataframe tbody tr th {\n",
              "        vertical-align: top;\n",
              "    }\n",
              "\n",
              "    .dataframe thead th {\n",
              "        text-align: right;\n",
              "    }\n",
              "</style>\n",
              "<table border=\"1\" class=\"dataframe\">\n",
              "  <thead>\n",
              "    <tr style=\"text-align: right;\">\n",
              "      <th></th>\n",
              "      <th>id</th>\n",
              "      <th>gender</th>\n",
              "      <th>masterCategory</th>\n",
              "      <th>Sports</th>\n",
              "    </tr>\n",
              "  </thead>\n",
              "  <tbody>\n",
              "    <tr>\n",
              "      <th>36160</th>\n",
              "      <td>36160</td>\n",
              "      <td>Women</td>\n",
              "      <td>Accessories</td>\n",
              "      <td>Casual</td>\n",
              "    </tr>\n",
              "    <tr>\n",
              "      <th>4840</th>\n",
              "      <td>4840</td>\n",
              "      <td>Unisex</td>\n",
              "      <td>Accessories</td>\n",
              "      <td>Casual</td>\n",
              "    </tr>\n",
              "    <tr>\n",
              "      <th>12570</th>\n",
              "      <td>12570</td>\n",
              "      <td>Women</td>\n",
              "      <td>Personal Care</td>\n",
              "      <td>Casual</td>\n",
              "    </tr>\n",
              "    <tr>\n",
              "      <th>25351</th>\n",
              "      <td>25351</td>\n",
              "      <td>Boys</td>\n",
              "      <td>Apparel</td>\n",
              "      <td>Casual</td>\n",
              "    </tr>\n",
              "    <tr>\n",
              "      <th>25611</th>\n",
              "      <td>25611</td>\n",
              "      <td>Men</td>\n",
              "      <td>Apparel</td>\n",
              "      <td>Casual</td>\n",
              "    </tr>\n",
              "    <tr>\n",
              "      <th>...</th>\n",
              "      <td>...</td>\n",
              "      <td>...</td>\n",
              "      <td>...</td>\n",
              "      <td>...</td>\n",
              "    </tr>\n",
              "    <tr>\n",
              "      <th>19032</th>\n",
              "      <td>19032</td>\n",
              "      <td>Men</td>\n",
              "      <td>Footwear</td>\n",
              "      <td>Sports</td>\n",
              "    </tr>\n",
              "    <tr>\n",
              "      <th>31230</th>\n",
              "      <td>31230</td>\n",
              "      <td>Women</td>\n",
              "      <td>Apparel</td>\n",
              "      <td>Ethnic</td>\n",
              "    </tr>\n",
              "    <tr>\n",
              "      <th>38439</th>\n",
              "      <td>38439</td>\n",
              "      <td>Men</td>\n",
              "      <td>Accessories</td>\n",
              "      <td>Casual</td>\n",
              "    </tr>\n",
              "    <tr>\n",
              "      <th>15207</th>\n",
              "      <td>15207</td>\n",
              "      <td>Men</td>\n",
              "      <td>Apparel</td>\n",
              "      <td>Casual</td>\n",
              "    </tr>\n",
              "    <tr>\n",
              "      <th>33850</th>\n",
              "      <td>33850</td>\n",
              "      <td>Men</td>\n",
              "      <td>Apparel</td>\n",
              "      <td>Formal</td>\n",
              "    </tr>\n",
              "  </tbody>\n",
              "</table>\n",
              "<p>500 rows × 4 columns</p>\n",
              "</div>"
            ],
            "text/plain": [
              "          id  gender masterCategory  Sports\n",
              "36160  36160   Women    Accessories  Casual\n",
              "4840    4840  Unisex    Accessories  Casual\n",
              "12570  12570   Women  Personal Care  Casual\n",
              "25351  25351    Boys        Apparel  Casual\n",
              "25611  25611     Men        Apparel  Casual\n",
              "...      ...     ...            ...     ...\n",
              "19032  19032     Men       Footwear  Sports\n",
              "31230  31230   Women        Apparel  Ethnic\n",
              "38439  38439     Men    Accessories  Casual\n",
              "15207  15207     Men        Apparel  Casual\n",
              "33850  33850     Men        Apparel  Formal\n",
              "\n",
              "[500 rows x 4 columns]"
            ]
          },
          "metadata": {
            "tags": []
          },
          "execution_count": 7
        }
      ]
    },
    {
      "cell_type": "code",
      "metadata": {
        "id": "QS8RkOAVOJB9",
        "colab_type": "code",
        "colab": {}
      },
      "source": [
        "ca = set(df.columns)-{'id'}\n",
        "for c in ca:\n",
        "  os.mkdir(c)\n",
        "  for ci in df['gender'].value_counts().index:\n",
        "    os.mkdir(c+'/'+ci)"
      ],
      "execution_count": 8,
      "outputs": []
    },
    {
      "cell_type": "markdown",
      "metadata": {
        "id": "VMcH-yq0j-hp",
        "colab_type": "text"
      },
      "source": [
        "创建训练集 验证集"
      ]
    },
    {
      "cell_type": "code",
      "metadata": {
        "id": "I6OfDBqbQQ1j",
        "colab_type": "code",
        "colab": {}
      },
      "source": [
        "ca = set(df.columns)-{'id'}\n",
        "for c in ca:\n",
        "  os.mkdir('val_'+c)\n",
        "  for ci in df['gender'].value_counts().index:\n",
        "    os.mkdir('val_'+c+'/'+ci)"
      ],
      "execution_count": 9,
      "outputs": []
    },
    {
      "cell_type": "code",
      "metadata": {
        "id": "LgJhBhMXPVpX",
        "colab_type": "code",
        "colab": {}
      },
      "source": [
        "# val创建\n",
        "for index,row in val_tags.iterrows():\n",
        "  id = row['id']\n",
        "  gender = row['gender']\n",
        "  # masterCategory = row['masterCategory']\n",
        "  # Sports = row['Sports']\n",
        "  pc = 'train_new/'+str(id)+'.jpg'\n",
        "  pv = 'val_gender/'+gender +'/'+ str(id)+'.jpg'\n",
        "  shutil.copy(pc,pv)"
      ],
      "execution_count": 10,
      "outputs": []
    },
    {
      "cell_type": "code",
      "metadata": {
        "id": "OhCzUr24Wxvo",
        "colab_type": "code",
        "colab": {}
      },
      "source": [
        "# train 创建\n",
        "for index,row in train_tags.iterrows():\n",
        "  id = row['id']\n",
        "  gender = row['gender']\n",
        "  # masterCategory = row['masterCategory']\n",
        "  # Sports = row['Sports']\n",
        "  pc = 'train_new/'+str(id)+'.jpg'\n",
        "  pv = 'gender/'+gender +'/'+ str(id)+'.jpg'\n",
        "  shutil.copy(pc,pv)"
      ],
      "execution_count": 11,
      "outputs": []
    },
    {
      "cell_type": "code",
      "metadata": {
        "id": "cWfUE6P4XUzC",
        "colab_type": "code",
        "colab": {
          "base_uri": "https://localhost:8080/",
          "height": 129
        },
        "outputId": "f9697b85-338e-499f-84fd-b494338b3820"
      },
      "source": [
        "conv_base = efn.EfficientNetB3(weights='imagenet',include_top=False,input_shape=(300, 300, 3))"
      ],
      "execution_count": 12,
      "outputs": [
        {
          "output_type": "stream",
          "text": [
            "WARNING:tensorflow:From /tensorflow-1.15.2/python3.6/tensorflow_core/python/ops/resource_variable_ops.py:1630: calling BaseResourceVariable.__init__ (from tensorflow.python.ops.resource_variable_ops) with constraint is deprecated and will be removed in a future version.\n",
            "Instructions for updating:\n",
            "If using Keras pass *_constraint arguments to layers.\n",
            "Downloading data from https://github.com/Callidior/keras-applications/releases/download/efficientnet/efficientnet-b3_weights_tf_dim_ordering_tf_kernels_autoaugment_notop.h5\n",
            "44113920/44107200 [==============================] - 1s 0us/step\n"
          ],
          "name": "stdout"
        }
      ]
    },
    {
      "cell_type": "markdown",
      "metadata": {
        "id": "OZn3hm03mEOw",
        "colab_type": "text"
      },
      "source": [
        "训练的参数"
      ]
    },
    {
      "cell_type": "code",
      "metadata": {
        "id": "V46xCLFUmDBT",
        "colab_type": "code",
        "colab": {}
      },
      "source": [
        "NUM_CLASSES = 5\n",
        "BASE_DIR = ('./')\n",
        "SIZES = {'basic': 300}\n",
        "height = SIZES['basic']\n",
        "width = height\n",
        "STEPS_PER_EPOCH = 100\n",
        "TOTAL_EPOCHS = 1\n",
        "GENERATOR_BATCH_SIZE = 40"
      ],
      "execution_count": 13,
      "outputs": []
    },
    {
      "cell_type": "markdown",
      "metadata": {
        "id": "lffl7ad0mMT7",
        "colab_type": "text"
      },
      "source": [
        "一些工具函数"
      ]
    },
    {
      "cell_type": "code",
      "metadata": {
        "id": "kPbOZEyZmLJq",
        "colab_type": "code",
        "colab": {}
      },
      "source": [
        "# Slow down training deeper into dataset\n",
        "def schedule(epoch):\n",
        "    if epoch < 100:\n",
        "        # Warmup model first\n",
        "        return .0000032\n",
        "    elif epoch < 12:\n",
        "        return .01\n",
        "    elif epoch < 20:\n",
        "        return .002\n",
        "    elif epoch < 30:\n",
        "        return .001\n",
        "    elif epoch < 40:\n",
        "        return .0004\n",
        "    elif epoch < 60:\n",
        "        return .00008\n",
        "    elif epoch < 80:\n",
        "        return .000016\n",
        "    elif epoch < 95:\n",
        "        return .0000032        \n",
        "    else:\n",
        "        return .0000009    \n",
        "def make_callbacks(weights_file):\n",
        "    # checkpoint\n",
        "    filepath = weights_file\n",
        "    checkpoint = ModelCheckpoint(\n",
        "        filepath, monitor='val_acc', verbose=1, save_best_only=True, mode='max')\n",
        "\n",
        "    # Update info\n",
        "    tensorboard = TensorBoard(log_dir=\"log/{}\".format(time()))\n",
        "\n",
        "    # learning rate schedule\n",
        "    lr_scheduler = LearningRateScheduler(schedule)\n",
        "\n",
        "    # all the goodies\n",
        "    return [lr_scheduler, checkpoint, tensorboard]\n",
        "## callbacks_list = make_callbacks(weights_file)\n",
        "\n",
        "\n",
        "train_datagen = ImageDataGenerator(\n",
        "    rescale=1./255,\n",
        "    rotation_range=45,\n",
        "    horizontal_flip=True,\n",
        "    shear_range=0.5,\n",
        "    zoom_range=0.3,\n",
        "    fill_mode='wrap',\n",
        "    width_shift_range=0.2,\n",
        "    height_shift_range=0.2,\n",
        ")\n",
        "\n",
        "# Validation data should not be modified\n",
        "validation_datagen = ImageDataGenerator(\n",
        "    rescale=1./255\n",
        ")\n",
        "train_dir = os.path.join(BASE_DIR, 'gender')\n",
        "test_dir = os.path.join(BASE_DIR, 'val_gender')\n",
        "def create_generators(height, width):\n",
        "    train_generator = train_datagen.flow_from_directory(\n",
        "        train_dir,\n",
        "        target_size=(height, width),\n",
        "        class_mode='categorical',\n",
        "        batch_size=GENERATOR_BATCH_SIZE\n",
        "    )\n",
        "\n",
        "    validation_generator = validation_datagen.flow_from_directory(\n",
        "        test_dir,\n",
        "        target_size=(height, width),\n",
        "        class_mode='categorical',\n",
        "        batch_size=GENERATOR_BATCH_SIZE\n",
        "    )\n",
        "\n",
        "    return[train_generator, validation_generator]\n",
        "def make_callbacks(weights_file):\n",
        "    # checkpoint\n",
        "    filepath = weights_file\n",
        "    checkpoint = ModelCheckpoint(\n",
        "        filepath, monitor='val_acc', verbose=1, save_best_only=True, mode='max')\n",
        "\n",
        "    # Update info\n",
        "    tensorboard = TensorBoard(log_dir=\"log/{}\".format(time()))\n",
        "\n",
        "    # learning rate schedule\n",
        "    lr_scheduler = LearningRateScheduler(schedule)\n",
        "\n",
        "    # all the goodies\n",
        "    return [lr_scheduler, checkpoint, tensorboard]\n",
        "weights_file = 'checkpoint/best_weights.efficientnet-b3.hdf5'\n",
        "callbacks_list = make_callbacks(weights_file)"
      ],
      "execution_count": 14,
      "outputs": []
    },
    {
      "cell_type": "markdown",
      "metadata": {
        "id": "g2ytyLskmROK",
        "colab_type": "text"
      },
      "source": [
        "载入模型"
      ]
    },
    {
      "cell_type": "code",
      "metadata": {
        "id": "FCVbSfOAXbdh",
        "colab_type": "code",
        "colab": {
          "base_uri": "https://localhost:8080/",
          "height": 35
        },
        "outputId": "6081516e-096f-4f9f-f1c7-5a08b4fab08d"
      },
      "source": [
        "# First time run, no unlocking\n",
        "conv_base.trainable = False\n",
        "# Let's construct that top layer replacement\n",
        "x = conv_base.output\n",
        "x = Flatten()(x)\n",
        "x = Dropout(0.25)(x)\n",
        "predictions = Dense(NUM_CLASSES,  kernel_initializer=\"glorot_uniform\", activation='softmax')(x)\n",
        "print('Stacking New Layers')\n",
        "model = Model(inputs = conv_base.input, outputs=predictions)"
      ],
      "execution_count": 15,
      "outputs": [
        {
          "output_type": "stream",
          "text": [
            "Stacking New Layers\n"
          ],
          "name": "stdout"
        }
      ]
    },
    {
      "cell_type": "markdown",
      "metadata": {
        "id": "1C-sD5x9oE5n",
        "colab_type": "text"
      },
      "source": [
        "模型编译"
      ]
    },
    {
      "cell_type": "code",
      "metadata": {
        "id": "q_FIqT78YNxY",
        "colab_type": "code",
        "colab": {
          "base_uri": "https://localhost:8080/",
          "height": 72
        },
        "outputId": "0a061087-aa32-467c-dff6-62366464d120"
      },
      "source": [
        "from keras.optimizers import SGD,Adam\n",
        "print('Compile model')\n",
        "# originally adam, but research says SGD with scheduler\n",
        "opt = Adam(lr=0.01, amsgrad=True)\n",
        "#opt = SGD(momentum=1,lr=1,nesterov=True) #,clipnorm=1. clipnorm=0.8\n",
        "#opt = keras.optimizers.Adadelta( rho=0.95, epsilon=None, decay=0.0)\n",
        "#opt = keras.optimizers.Nadam(lr=0.1, beta_1=0.9, beta_2=0.999, epsilon=None, schedule_decay=0.004)\n",
        "# lrate = 0.01 \n",
        "# epoch = 10\n",
        "# decay = lrate/epoch\n",
        "# opt = SGD(lr=0.01, momentum=0.9, nesterov=True)\n",
        "\n",
        "model.compile(\n",
        "    loss='categorical_crossentropy',\n",
        "    optimizer=opt,\n",
        "    metrics=['accuracy']\n",
        ")\n",
        "\n",
        "# Get training/validation data via generators\n",
        "train_generator, validation_generator = create_generators(height, width)"
      ],
      "execution_count": 16,
      "outputs": [
        {
          "output_type": "stream",
          "text": [
            "Compile model\n",
            "Found 39648 images belonging to 5 classes.\n",
            "Found 500 images belonging to 5 classes.\n"
          ],
          "name": "stdout"
        }
      ]
    },
    {
      "cell_type": "markdown",
      "metadata": {
        "id": "0fHbM__umX3Z",
        "colab_type": "text"
      },
      "source": [
        "训练和保存"
      ]
    },
    {
      "cell_type": "code",
      "metadata": {
        "id": "oXjiFE9fYjVB",
        "colab_type": "code",
        "colab": {
          "base_uri": "https://localhost:8080/",
          "height": 203
        },
        "outputId": "ee474fdc-7a3d-4715-997b-bc24aeaec80b"
      },
      "source": [
        "print('Start training!')\n",
        "history = model.fit_generator(\n",
        "    train_generator,\n",
        "    callbacks=callbacks_list,\n",
        "    epochs=10,\n",
        "    steps_per_epoch=STEPS_PER_EPOCH,\n",
        "    shuffle=True,\n",
        "    workers=4,\n",
        "    use_multiprocessing=True,\n",
        "    validation_data=validation_generator,\n",
        "    validation_steps=50\n",
        ")\n",
        "\n",
        "# Save it for later\n",
        "print('Saving Model')\n",
        "\n",
        "model.save(\"gender-EfficientNetB3_size.\" + str(width) + \"x\" + str(height) + \".hdf5\")"
      ],
      "execution_count": null,
      "outputs": [
        {
          "output_type": "stream",
          "text": [
            "Start training!\n",
            "WARNING:tensorflow:From /usr/local/lib/python3.6/dist-packages/keras/backend/tensorflow_backend.py:422: The name tf.global_variables is deprecated. Please use tf.compat.v1.global_variables instead.\n",
            "\n",
            "WARNING:tensorflow:From /usr/local/lib/python3.6/dist-packages/keras/callbacks/tensorboard_v1.py:200: The name tf.summary.merge_all is deprecated. Please use tf.compat.v1.summary.merge_all instead.\n",
            "\n",
            "WARNING:tensorflow:From /usr/local/lib/python3.6/dist-packages/keras/callbacks/tensorboard_v1.py:203: The name tf.summary.FileWriter is deprecated. Please use tf.compat.v1.summary.FileWriter instead.\n",
            "\n",
            "Epoch 1/10\n",
            " 42/100 [===========>..................] - ETA: 5:58 - loss: 1.8372 - accuracy: 0.3310"
          ],
          "name": "stdout"
        }
      ]
    }
  ]
}